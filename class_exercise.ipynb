{
 "cells": [
  {
   "cell_type": "code",
   "execution_count": null,
   "id": "30e880ff",
   "metadata": {},
   "outputs": [],
   "source": [
    "num1 = int(input(\"Enter Num:\"))\n",
    "num2 = int(input(\"Enter Num:\"))\n",
    "\n",
    "product = num1 * num2\n",
    "if product > 1000:\n",
    "    sum = num1 + num2\n",
    "    print(sum)\n",
    "else:\n",
    "    print(product)\n",
    "        \n"
   ]
  },
  {
   "cell_type": "code",
   "execution_count": 10,
   "id": "3f3cee49",
   "metadata": {},
   "outputs": [
    {
     "name": "stdout",
     "output_type": "stream",
     "text": [
      "Enter A String: michael\n",
      "m\n",
      "c\n",
      "a\n",
      "l\n"
     ]
    }
   ],
   "source": [
    "stringCharacters = input(\"Enter A String: \")\n",
    "\n",
    "num = 0\n",
    "\n",
    "for i in stringCharacters:\n",
    "    num +=1\n",
    "    if num % 2 == 1:\n",
    "        print(i)"
   ]
  },
  {
   "cell_type": "code",
   "execution_count": 15,
   "id": "93b20e33",
   "metadata": {},
   "outputs": [
    {
     "name": "stdout",
     "output_type": "stream",
     "text": [
      "1 2 3 4 5 6 7 8 9 10 11 12 \n",
      "\n",
      "2 4 6 8 10 12 14 16 18 20 22 24 \n",
      "\n",
      "3 6 9 12 15 18 21 24 27 30 33 36 \n",
      "\n",
      "4 8 12 16 20 24 28 32 36 40 44 48 \n",
      "\n",
      "5 10 15 20 25 30 35 40 45 50 55 60 \n",
      "\n",
      "6 12 18 24 30 36 42 48 54 60 66 72 \n",
      "\n",
      "7 14 21 28 35 42 49 56 63 70 77 84 \n",
      "\n",
      "8 16 24 32 40 48 56 64 72 80 88 96 \n",
      "\n",
      "9 18 27 36 45 54 63 72 81 90 99 108 \n",
      "\n",
      "10 20 30 40 50 60 70 80 90 100 110 120 \n",
      "\n"
     ]
    }
   ],
   "source": [
    "for i in range(1, 11):\n",
    "    for j in range(1, 13):\n",
    "        print(i * j, end=\" \")\n",
    "    \n",
    "        if j == 12:\n",
    "            print(\"\\n\")"
   ]
  },
  {
   "cell_type": "code",
   "execution_count": 71,
   "id": "b813d2e5",
   "metadata": {},
   "outputs": [
    {
     "name": "stdout",
     "output_type": "stream",
     "text": [
      "Enter Number: hd\n"
     ]
    },
    {
     "ename": "ValueError",
     "evalue": "invalid literal for int() with base 10: 'hd'",
     "output_type": "error",
     "traceback": [
      "\u001b[1;31m---------------------------------------------------------------------------\u001b[0m",
      "\u001b[1;31mValueError\u001b[0m                                Traceback (most recent call last)",
      "\u001b[1;32m<ipython-input-71-56f5b2b03b26>\u001b[0m in \u001b[0;36m<module>\u001b[1;34m\u001b[0m\n\u001b[0;32m      2\u001b[0m     \u001b[1;32mreturn\u001b[0m \u001b[0mbase\u001b[0m\u001b[1;33m**\u001b[0m\u001b[0mexp\u001b[0m\u001b[1;33m\u001b[0m\u001b[1;33m\u001b[0m\u001b[0m\n\u001b[0;32m      3\u001b[0m \u001b[1;33m\u001b[0m\u001b[0m\n\u001b[1;32m----> 4\u001b[1;33m \u001b[0mbase\u001b[0m \u001b[1;33m=\u001b[0m \u001b[0mint\u001b[0m\u001b[1;33m(\u001b[0m\u001b[0minput\u001b[0m\u001b[1;33m(\u001b[0m\u001b[1;34m\"Enter Number: \"\u001b[0m\u001b[1;33m)\u001b[0m\u001b[1;33m)\u001b[0m\u001b[1;33m\u001b[0m\u001b[1;33m\u001b[0m\u001b[0m\n\u001b[0m\u001b[0;32m      5\u001b[0m \u001b[0mexp\u001b[0m \u001b[1;33m=\u001b[0m \u001b[0mint\u001b[0m\u001b[1;33m(\u001b[0m\u001b[0minput\u001b[0m\u001b[1;33m(\u001b[0m\u001b[1;34m\"Enter Number: \"\u001b[0m\u001b[1;33m)\u001b[0m\u001b[1;33m)\u001b[0m\u001b[1;33m\u001b[0m\u001b[1;33m\u001b[0m\u001b[0m\n\u001b[0;32m      6\u001b[0m \u001b[1;33m\u001b[0m\u001b[0m\n",
      "\u001b[1;31mValueError\u001b[0m: invalid literal for int() with base 10: 'hd'"
     ]
    }
   ],
   "source": [
    "def exponent(base, exp):\n",
    "    return base**exp\n",
    "\n",
    "base = int(input(\"Enter Number: \"))\n",
    "exp = int(input(\"Enter Number: \"))\n",
    "\n",
    "exponent(base, exp)"
   ]
  },
  {
   "cell_type": "code",
   "execution_count": 47,
   "id": "dfecead9",
   "metadata": {},
   "outputs": [
    {
     "name": "stdout",
     "output_type": "stream",
     "text": [
      "blackman Francis Seyi Bessi davies Sarah "
     ]
    }
   ],
   "source": [
    "list_of_names = [\"Sarah\", \"davies\", \"Bessi\", \"Seyi\", \"Francis\", \"blackman\"]\n",
    "\n",
    "order = []\n",
    "\n",
    "for i in list_of_names[::-1]:\n",
    "    print(i, end=\" \")"
   ]
  },
  {
   "cell_type": "code",
   "execution_count": 49,
   "id": "ca53234d",
   "metadata": {},
   "outputs": [
    {
     "name": "stdout",
     "output_type": "stream",
     "text": [
      "[13, 15, 26, 90, 500, 300, 40, 70, 200]\n"
     ]
    }
   ],
   "source": [
    "given_list = [13, 15, 26, 90, 500, 300, 40, 70, 20]\n",
    "\n",
    "count = 0\n",
    "\n",
    "for i in given_list:\n",
    "    count+=1\n",
    "    if i == 20:\n",
    "        given_list[count-1] = 200\n",
    "        break\n",
    "print(given_list)"
   ]
  },
  {
   "cell_type": "code",
   "execution_count": 68,
   "id": "ee2230b9",
   "metadata": {},
   "outputs": [
    {
     "data": {
      "text/plain": [
       "False"
      ]
     },
     "execution_count": 68,
     "metadata": {},
     "output_type": "execute_result"
    }
   ],
   "source": [
    "def is_prime_number(num):\n",
    "    divisible = 2\n",
    "    while divisible < num:\n",
    "        if num % divisible == 0:\n",
    "            return False\n",
    "        divisible+=1\n",
    "    return True\n",
    "\n",
    "is_prime_number(100000284)"
   ]
  },
  {
   "cell_type": "code",
   "execution_count": 69,
   "id": "72752591",
   "metadata": {},
   "outputs": [
    {
     "data": {
      "text/plain": [
       "(68, 1035)"
      ]
     },
     "execution_count": 69,
     "metadata": {},
     "output_type": "execute_result"
    }
   ],
   "source": [
    "def calculation(num1, num2):\n",
    "    \n",
    "    for i in range(2):\n",
    "        return num1 + num2, num2 * num1\n",
    "        \n",
    "calculation(23, 45)"
   ]
  },
  {
   "cell_type": "code",
   "execution_count": 103,
   "id": "e7d46159",
   "metadata": {},
   "outputs": [
    {
     "name": "stdout",
     "output_type": "stream",
     "text": [
      "2 is Prime\n",
      "2 is Prime\n",
      "2 is Prime\n",
      "2 is Prime\n",
      "2 is Prime\n",
      "2 is Prime\n",
      "2 is Prime\n",
      "2 is Prime\n",
      "2 is Prime\n",
      "3 is Prime\n"
     ]
    }
   ],
   "source": [
    "isPrime = True\n",
    "\n",
    "count = 2\n",
    "for i in range(2, 102):\n",
    "    for j in range(2, 11):\n",
    "        if i % j == 0 and count != i:\n",
    "            isPrime = False\n",
    "        if isPrime == True:\n",
    "            print(i, \"is Prime\")"
   ]
  },
  {
   "cell_type": "code",
   "execution_count": null,
   "id": "181e10df",
   "metadata": {},
   "outputs": [],
   "source": []
  }
 ],
 "metadata": {
  "kernelspec": {
   "display_name": "Python 3",
   "language": "python",
   "name": "python3"
  },
  "language_info": {
   "codemirror_mode": {
    "name": "ipython",
    "version": 3
   },
   "file_extension": ".py",
   "mimetype": "text/x-python",
   "name": "python",
   "nbconvert_exporter": "python",
   "pygments_lexer": "ipython3",
   "version": "3.8.8"
  }
 },
 "nbformat": 4,
 "nbformat_minor": 5
}
